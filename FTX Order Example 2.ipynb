{
 "cells": [
  {
   "cell_type": "code",
   "execution_count": 13,
   "metadata": {},
   "outputs": [],
   "source": [
    "import time\n",
    "import hmac\n",
    "from requests import Request\n",
    "import requests\n",
    "import json\n",
    "from client import FtxClient\n",
    "import json, urllib, csv\n",
    "import pandas as pd\n",
    "client = FtxClient()"
   ]
  },
  {
   "cell_type": "code",
   "execution_count": null,
   "metadata": {},
   "outputs": [],
   "source": [
    "while True:\n",
    "    try:\n",
    "        btc_old = requests.get('https://ftx.com/api/markets/BTC-PERP').json()\n",
    "        print(btc_data['result']['ask'])\n",
    "    except exception as e:\n",
    "        print('Error obtaining BTC old data')\n",
    "        \n",
    "    sleep(300)\n",
    "    \n",
    "    try:\n",
    "        btc_new = requests.get('https://ftx.com/api/markets/BTC-PERP').json()\n",
    "        print(btc_data['result']['ask'])\n",
    "    except exception as e:\n",
    "        print('Error obtaining BTC old data')\n",
    "\n",
    "    percent = (((float(btc_new['result']['ask']) - float(btc_old['result']['ask'])) * 100) / float(btc_old['result']['ask']))\n",
    "        \n",
    "    if percent != 5:\n",
    "        print('The trade requirement was not satisfied. The percentage move is at ',percent)\n",
    "        sleep(5)\n",
    "        continue\n",
    "    \n",
    "    elif percent >= 5:\n",
    "        try:\n",
    "            data = {\n",
    "                    \"market\":\"BTC/USD\",\n",
    "                    \"side\":\"buy\",\n",
    "                    \"price\":None,\n",
    "                    \"type\":\"market\",\n",
    "                    \"size\":100,\n",
    "                    \"reduceOnly\":False,\n",
    "                    \"ioc\":False,\n",
    "                    \"postOnly\":False\n",
    "                    }\n",
    "\n",
    "                send_order = client._post(f'orders', data)\n",
    "                print(send_order)\n",
    "        except excpetion as e:\n",
    "            print('Error making order request')\n",
    "        \n",
    "        sleep(2)\n",
    "        try:\n",
    "            order_response = client._process_response(f'send_order', send_order)\n",
    "            print(order_response)\n",
    "        except exception as e:\n",
    "            print('Error checking for order status')\n",
    "            \n",
    "        if order_response['success'] == true:\n",
    "            print ('Order placed at {}'.format(pd.Timestamp.now()))\n",
    "            break\n",
    "        else:\n",
    "            print('Order was canceled {}'.format(pd.Timestamp.now()))\n",
    "            break"
   ]
  },
  {
   "cell_type": "code",
   "execution_count": null,
   "metadata": {},
   "outputs": [],
   "source": []
  }
 ],
 "metadata": {
  "kernelspec": {
   "display_name": "Python 3",
   "language": "python",
   "name": "python3"
  },
  "language_info": {
   "codemirror_mode": {
    "name": "ipython",
    "version": 3
   },
   "file_extension": ".py",
   "mimetype": "text/x-python",
   "name": "python",
   "nbconvert_exporter": "python",
   "pygments_lexer": "ipython3",
   "version": "3.8.3"
  }
 },
 "nbformat": 4,
 "nbformat_minor": 4
}
